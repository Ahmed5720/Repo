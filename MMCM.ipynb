{
 "cells": [
  {
   "cell_type": "code",
   "execution_count": 1,
   "metadata": {},
   "outputs": [
    {
     "name": "stderr",
     "output_type": "stream",
     "text": [
      "C:\\Users\\15854\\AppData\\Local\\Temp\\ipykernel_22356\\41808308.py:6: DtypeWarning: Columns (2) have mixed types. Specify dtype option on import or set low_memory=False.\n",
      "  df = pd.read_csv(r'C:\\College\\WRITING 105\\city_temperature.csv')\n"
     ]
    },
    {
     "name": "stdout",
     "output_type": "stream",
     "text": [
      "64.2\n",
      "Enter Country\n",
      "Egypt is\n",
      "[1995.1 1995.  1996.  1997.  1998.  1999.  2000.  2001.  2002.  2003.\n",
      " 2004.  2005.  2006.  2007.  2008.  2009.  2010.  2011.  2012.  2013.\n",
      " 2014.  2015.  2016.  2017.  2018.  2019.  2020. ]\n",
      "[59.1 60.6 57.2 60.2 64.2 62.8 61.3 55.5 61.2 57.  65.  61.5 55.5 57.1\n",
      " 57.1 64.8 61.6 57.3 59.9 57.2 62.8 64.2 55.7 59.2 58.8 57.4 69. ]\n"
     ]
    },
    {
     "data": {
      "image/png": "[encoded data removed]",
      "text/plain": [
       "<Figure size 640x480 with 1 Axes>"
      ]
     },
     "metadata": {},
     "output_type": "display_data"
    }
   ],
   "source": [
    "import pandas as pd\n",
    "#import cartopy.crs as ccrs\n",
    "import numpy as np\n",
    "import matplotlib.pyplot as plt\n",
    "\n",
    "df = pd.read_csv(r'C:\\College\\WRITING 105\\city_temperature.csv')\n",
    "#print(*set(df['Country']))\n",
    "print(df['AvgTemperature'][0])\n",
    "x = np.array(1995.1)\n",
    "y = np.array(59.1)\n",
    "print(\"Enter Country\")\n",
    "country = input()\n",
    "for i in range(len(df['Country'])-1):\n",
    "    if df['Country'][i] == country:\n",
    "       if(df['Year'][i+1] != df['Year'][i]):\n",
    "           x = np.append(x,df['Year'][i])\n",
    "           first = df['AvgTemperature'][0]\n",
    "           if(abs(df['AvgTemperature'][i] - first) > 30):\n",
    "                y = np.append(y,first)\n",
    "           else:\n",
    "                y = np.append(y,df['AvgTemperature'][i])\n",
    "\n",
    "\n",
    "print(x)\n",
    "print(y)\n",
    "a,b = np.polyfit(x,y,1)\n",
    "plt.scatter(x, y, s = 10, c = 'r')\n",
    "plt.plot(x,a * x+b)\n",
    "plt.show()"
   ]
  },
  {
   "cell_type": "code",
   "execution_count": 2,
   "metadata": {},
   "outputs": [
    {
     "ename": "NameError",
     "evalue": "name 'Egypt' is not defined",
     "output_type": "error",
     "traceback": [
      "\u001b[1;31m---------------------------------------------------------------------------\u001b[0m",
      "\u001b[1;31mNameError\u001b[0m                                 Traceback (most recent call last)",
      "Cell \u001b[1;32mIn[2], line 1\u001b[0m\n\u001b[1;32m----> 1\u001b[0m Egypt\n",
      "\u001b[1;31mNameError\u001b[0m: name 'Egypt' is not defined"
     ]
    }
   ],
   "source": [
    "Egypt"
   ]
  }
 ],
 "metadata": {
  "kernelspec": {
   "display_name": "Python 3.10.8 64-bit (microsoft store)",
   "language": "python",
   "name": "python3"
  },
  "language_info": {
   "codemirror_mode": {
    "name": "ipython",
    "version": 3
   },
   "file_extension": ".py",
   "mimetype": "text/x-python",
   "name": "python",
   "nbconvert_exporter": "python",
   "pygments_lexer": "ipython3",
   "version": "3.10.8"
  },
  "orig_nbformat": 4,
  "vscode": {
   "interpreter": {
    "hash": "95bc26970c97b309e9894e6fff8a42b8e9f22bf1c1534faf833658f0bf1a8803"
   }
  }
 },
 "nbformat": 4,
 "nbformat_minor": 2
}

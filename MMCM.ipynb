{
 "cells": [
  {
   "cell_type": "code",
   "execution_count": 1,
   "metadata": {},
   "outputs": [
    {
     "ename": "ImportError",
     "evalue": "DLL load failed while importing trace: The specified module could not be found.",
     "output_type": "error",
     "traceback": [
      "\u001b[1;31m---------------------------------------------------------------------------\u001b[0m",
      "\u001b[1;31mImportError\u001b[0m                               Traceback (most recent call last)",
      "Cell \u001b[1;32mIn[1], line 2\u001b[0m\n\u001b[0;32m      1\u001b[0m \u001b[39mimport\u001b[39;00m \u001b[39mpandas\u001b[39;00m \u001b[39mas\u001b[39;00m \u001b[39mpd\u001b[39;00m\n\u001b[1;32m----> 2\u001b[0m \u001b[39mimport\u001b[39;00m \u001b[39mcartopy\u001b[39;00m\u001b[39m.\u001b[39;00m\u001b[39mcrs\u001b[39;00m \u001b[39mas\u001b[39;00m \u001b[39mccrs\u001b[39;00m\n\u001b[0;32m      3\u001b[0m \u001b[39mimport\u001b[39;00m \u001b[39mnumpy\u001b[39;00m \u001b[39mas\u001b[39;00m \u001b[39mnp\u001b[39;00m\n\u001b[0;32m      4\u001b[0m \u001b[39mimport\u001b[39;00m \u001b[39mmatplotlib\u001b[39;00m\u001b[39m.\u001b[39;00m\u001b[39mpyplot\u001b[39;00m \u001b[39mas\u001b[39;00m \u001b[39mplt\u001b[39;00m\n",
      "File \u001b[1;32m~\\AppData\\Local\\Packages\\PythonSoftwareFoundation.Python.3.10_qbz5n2kfra8p0\\LocalCache\\local-packages\\Python310\\site-packages\\cartopy\\__init__.py:110\u001b[0m\n\u001b[0;32m    105\u001b[0m     \u001b[39mpass\u001b[39;00m\n\u001b[0;32m    108\u001b[0m \u001b[39m# Commonly used sub-modules. Imported here to provide end-user\u001b[39;00m\n\u001b[0;32m    109\u001b[0m \u001b[39m# convenience.\u001b[39;00m\n\u001b[1;32m--> 110\u001b[0m \u001b[39mimport\u001b[39;00m \u001b[39mcartopy\u001b[39;00m\u001b[39m.\u001b[39;00m\u001b[39mcrs\u001b[39;00m\n\u001b[0;32m    111\u001b[0m \u001b[39mimport\u001b[39;00m \u001b[39mcartopy\u001b[39;00m\u001b[39m.\u001b[39;00m\u001b[39mfeature\u001b[39;00m  \u001b[39m# noqa: F401  (flake8 = unused import)\u001b[39;00m\n",
      "File \u001b[1;32m~\\AppData\\Local\\Packages\\PythonSoftwareFoundation.Python.3.10_qbz5n2kfra8p0\\LocalCache\\local-packages\\Python310\\site-packages\\cartopy\\crs.py:27\u001b[0m\n\u001b[0;32m     24\u001b[0m \u001b[39mfrom\u001b[39;00m \u001b[39mpyproj\u001b[39;00m\u001b[39m.\u001b[39;00m\u001b[39mexceptions\u001b[39;00m \u001b[39mimport\u001b[39;00m ProjError\n\u001b[0;32m     25\u001b[0m \u001b[39mfrom\u001b[39;00m \u001b[39mshapely\u001b[39;00m\u001b[39m.\u001b[39;00m\u001b[39mprepared\u001b[39;00m \u001b[39mimport\u001b[39;00m prep\n\u001b[1;32m---> 27\u001b[0m \u001b[39mimport\u001b[39;00m \u001b[39mcartopy\u001b[39;00m\u001b[39m.\u001b[39;00m\u001b[39mtrace\u001b[39;00m\n\u001b[0;32m     30\u001b[0m \u001b[39mtry\u001b[39;00m:\n\u001b[0;32m     31\u001b[0m     \u001b[39m# https://github.com/pyproj4/pyproj/pull/912\u001b[39;00m\n\u001b[0;32m     32\u001b[0m     \u001b[39mfrom\u001b[39;00m \u001b[39mpyproj\u001b[39;00m\u001b[39m.\u001b[39;00m\u001b[39mcrs\u001b[39;00m \u001b[39mimport\u001b[39;00m CustomConstructorCRS \u001b[39mas\u001b[39;00m _CRS\n",
      "\u001b[1;31mImportError\u001b[0m: DLL load failed while importing trace: The specified module could not be found."
     ]
    }
   ],
   "source": [
    "import pandas as pd\n",
    "#import cartopy.crs as ccrs\n",
    "import numpy as np\n",
    "import matplotlib.pyplot as plt\n",
    "\n",
    "df = pd.read_csv(r'C:\\College\\WRITING 105\\city_temperature.csv')\n",
    "#print(*set(df['Country']))\n",
    "print(df['AvgTemperature'][0])\n",
    "x = np.array(1995.1)\n",
    "y = np.array(59.1)\n",
    "print(\"Enter Country\")\n",
    "country = input()\n",
    "for i in range(len(df['Country'])-1):\n",
    "    if df['Country'][i] == country:\n",
    "       if(df['Year'][i+1] != df['Year'][i]):\n",
    "           x = np.append(x,df['Year'][i])\n",
    "           first = df['AvgTemperature'][0]\n",
    "           if(abs(df['AvgTemperature'][i] - first) > 30):\n",
    "                y = np.append(y,first)\n",
    "           else:\n",
    "                y = np.append(y,df['AvgTemperature'][i])\n",
    "\n",
    "\n",
    "print('Egypt is')\n",
    "print(x)\n",
    "print(y)\n",
    "a,b = np.polyfit(x,y,1)\n",
    "plt.scatter(x, y, s = 10, c = 'r')\n",
    "plt.plot(x,a * x+b)\n",
    "plt.show()"
   ]
  },
  {
   "cell_type": "code",
   "execution_count": null,
   "metadata": {},
   "outputs": [
    {
     "ename": "NameError",
     "evalue": "name 'Egypt' is not defined",
     "output_type": "error",
     "traceback": [
      "\u001b[1;31m---------------------------------------------------------------------------\u001b[0m",
      "\u001b[1;31mNameError\u001b[0m                                 Traceback (most recent call last)",
      "Cell \u001b[1;32mIn[11], line 1\u001b[0m\n\u001b[1;32m----> 1\u001b[0m Egypt\n",
      "\u001b[1;31mNameError\u001b[0m: name 'Egypt' is not defined"
     ]
    }
   ],
   "source": [
    "Egypt"
   ]
  }
 ],
 "metadata": {
  "kernelspec": {
   "display_name": "Python 3.10.8 64-bit (microsoft store)",
   "language": "python",
   "name": "python3"
  },
  "language_info": {
   "codemirror_mode": {
    "name": "ipython",
    "version": 3
   },
   "file_extension": ".py",
   "mimetype": "text/x-python",
   "name": "python",
   "nbconvert_exporter": "python",
   "pygments_lexer": "ipython3",
   "version": "3.10.8"
  },
  "orig_nbformat": 4,
  "vscode": {
   "interpreter": {
    "hash": "95bc26970c97b309e9894e6fff8a42b8e9f22bf1c1534faf833658f0bf1a8803"
   }
  }
 },
 "nbformat": 4,
 "nbformat_minor": 2
}
